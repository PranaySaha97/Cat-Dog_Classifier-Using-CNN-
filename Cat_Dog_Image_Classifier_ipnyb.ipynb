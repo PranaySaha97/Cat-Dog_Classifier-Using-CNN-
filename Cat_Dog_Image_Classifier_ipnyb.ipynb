{
  "nbformat": 4,
  "nbformat_minor": 0,
  "metadata": {
    "colab": {
      "name": "Cat-Dog Image Classifier.ipnyb",
      "provenance": []
    },
    "kernelspec": {
      "name": "python3",
      "display_name": "Python 3"
    }
  },
  "cells": [
    {
      "cell_type": "markdown",
      "metadata": {
        "id": "M-QbduYLV0Qk",
        "colab_type": "text"
      },
      "source": [
        "# **Image Classifier Using CNN**<br>\n",
        "<strong>Classifies Cats and Dogs</strong><br>\n",
        "<b>Author:</b> Pranay Saha<br>\n",
        "<b>Date: </b>22/09/2019\n"
      ]
    },
    {
      "cell_type": "code",
      "metadata": {
        "id": "B6jpvVYgYFz4",
        "colab_type": "code",
        "outputId": "df4c5196-cd7a-4de7-bbeb-eb2461b7e421",
        "colab": {
          "base_uri": "https://localhost:8080/",
          "height": 34
        }
      },
      "source": [
        "# Load the Drive helper and mount\n",
        "from google.colab import drive\n",
        "\n",
        "# This will prompt for authorization.\n",
        "drive.mount('/content/drive')"
      ],
      "execution_count": 0,
      "outputs": [
        {
          "output_type": "stream",
          "text": [
            "Drive already mounted at /content/drive; to attempt to forcibly remount, call drive.mount(\"/content/drive\", force_remount=True).\n"
          ],
          "name": "stdout"
        }
      ]
    },
    {
      "cell_type": "code",
      "metadata": {
        "id": "Uyl-176eboIj",
        "colab_type": "code",
        "colab": {}
      },
      "source": [
        "my_data_path= \"/content/drive/My Drive/Colab Notebooks/CNN_Cat or Dog Data/\"\n"
      ],
      "execution_count": 0,
      "outputs": []
    },
    {
      "cell_type": "code",
      "metadata": {
        "id": "JZ-kBM7Gb1dG",
        "colab_type": "code",
        "colab": {}
      },
      "source": [
        "from keras.models import Sequential\n",
        "from keras.layers import Dense, Conv2D, MaxPooling2D, Flatten, Dropout\n",
        "from keras.preprocessing.image import ImageDataGenerator"
      ],
      "execution_count": 0,
      "outputs": []
    },
    {
      "cell_type": "code",
      "metadata": {
        "id": "yPYPMA5nfxOB",
        "colab_type": "code",
        "outputId": "fd246007-f086-4e14-be20-6fb86796760e",
        "colab": {
          "base_uri": "https://localhost:8080/",
          "height": 88
        }
      },
      "source": [
        "mod= Sequential()\n",
        "mod.add(Conv2D(32, input_shape=(64,64,3), kernel_size=(3,3), activation='relu'))\n",
        "mod.add(MaxPooling2D(pool_size=(2,2)))\n",
        "mod.add(Dropout(0.25))\n",
        "mod.add(Conv2D(64, input_shape=(64,64,3), kernel_size=(3,3), activation='relu'))\n",
        "mod.add(MaxPooling2D(pool_size=(2,2)))\n",
        "mod.add(Dropout(0.25))\n",
        "mod.add(Conv2D(64, input_shape=(64,64,3), kernel_size=(3,3), activation='relu'))\n",
        "mod.add(MaxPooling2D(pool_size=(2,2)))\n",
        "mod.add(Dropout(0.25))\n",
        "mod.add(Flatten())\n",
        "mod.add(Dense(1000, activation='relu'))\n",
        "mod.add(Dropout(0.5))\n",
        "mod.add(Dense(1, activation='sigmoid'))\n"
      ],
      "execution_count": 0,
      "outputs": [
        {
          "output_type": "stream",
          "text": [
            "WARNING:tensorflow:From /usr/local/lib/python3.6/dist-packages/keras/backend/tensorflow_backend.py:3733: calling dropout (from tensorflow.python.ops.nn_ops) with keep_prob is deprecated and will be removed in a future version.\n",
            "Instructions for updating:\n",
            "Please use `rate` instead of `keep_prob`. Rate should be set to `rate = 1 - keep_prob`.\n"
          ],
          "name": "stdout"
        }
      ]
    },
    {
      "cell_type": "code",
      "metadata": {
        "id": "x42bntMtf0Nz",
        "colab_type": "code",
        "outputId": "7536d3f8-2ccc-4b7d-8516-5c267d8773c8",
        "colab": {
          "base_uri": "https://localhost:8080/",
          "height": 595
        }
      },
      "source": [
        "mod.summary()"
      ],
      "execution_count": 0,
      "outputs": [
        {
          "output_type": "stream",
          "text": [
            "Model: \"sequential_6\"\n",
            "_________________________________________________________________\n",
            "Layer (type)                 Output Shape              Param #   \n",
            "=================================================================\n",
            "conv2d_9 (Conv2D)            (None, 62, 62, 32)        896       \n",
            "_________________________________________________________________\n",
            "max_pooling2d_9 (MaxPooling2 (None, 31, 31, 32)        0         \n",
            "_________________________________________________________________\n",
            "dropout_1 (Dropout)          (None, 31, 31, 32)        0         \n",
            "_________________________________________________________________\n",
            "conv2d_10 (Conv2D)           (None, 29, 29, 64)        18496     \n",
            "_________________________________________________________________\n",
            "max_pooling2d_10 (MaxPooling (None, 14, 14, 64)        0         \n",
            "_________________________________________________________________\n",
            "dropout_2 (Dropout)          (None, 14, 14, 64)        0         \n",
            "_________________________________________________________________\n",
            "conv2d_11 (Conv2D)           (None, 12, 12, 64)        36928     \n",
            "_________________________________________________________________\n",
            "max_pooling2d_11 (MaxPooling (None, 6, 6, 64)          0         \n",
            "_________________________________________________________________\n",
            "dropout_3 (Dropout)          (None, 6, 6, 64)          0         \n",
            "_________________________________________________________________\n",
            "flatten_5 (Flatten)          (None, 2304)              0         \n",
            "_________________________________________________________________\n",
            "dense_9 (Dense)              (None, 1000)              2305000   \n",
            "_________________________________________________________________\n",
            "dropout_4 (Dropout)          (None, 1000)              0         \n",
            "_________________________________________________________________\n",
            "dense_10 (Dense)             (None, 1)                 1001      \n",
            "=================================================================\n",
            "Total params: 2,362,321\n",
            "Trainable params: 2,362,321\n",
            "Non-trainable params: 0\n",
            "_________________________________________________________________\n"
          ],
          "name": "stdout"
        }
      ]
    },
    {
      "cell_type": "code",
      "metadata": {
        "id": "ilbMEJx8gI-D",
        "colab_type": "code",
        "colab": {}
      },
      "source": [
        "train_gen= ImageDataGenerator(rescale=1./255,\n",
        "                              zoom_range= 0.2,\n",
        "                              shear_range= 0.2,\n",
        "                              horizontal_flip= True)\n",
        "\n",
        "test_gen= ImageDataGenerator(rescale= 1./255)"
      ],
      "execution_count": 0,
      "outputs": []
    },
    {
      "cell_type": "code",
      "metadata": {
        "id": "1mfODEKMgNqp",
        "colab_type": "code",
        "outputId": "c46a35f1-1a65-4d45-ab5a-131d1c3c1f52",
        "colab": {
          "base_uri": "https://localhost:8080/",
          "height": 51
        }
      },
      "source": [
        "train_set= train_gen.flow_from_directory(my_data_path+'dataset/training_set',\n",
        "                                         target_size= (64,64),\n",
        "                                         batch_size= 32,\n",
        "                                         class_mode= 'binary')\n",
        "\n",
        "test_set= test_gen.flow_from_directory(my_data_path+'dataset/test_set',\n",
        "                                       target_size= (64,64),\n",
        "                                       batch_size= 32,\n",
        "                                       class_mode= 'binary')\n"
      ],
      "execution_count": 0,
      "outputs": [
        {
          "output_type": "stream",
          "text": [
            "Found 8008 images belonging to 2 classes.\n",
            "Found 2000 images belonging to 2 classes.\n"
          ],
          "name": "stdout"
        }
      ]
    },
    {
      "cell_type": "code",
      "metadata": {
        "id": "SXR-PaVEvU2g",
        "colab_type": "code",
        "colab": {}
      },
      "source": [
        "mod.compile(optimizer='adam', metrics=['accuracy'], loss='binary_crossentropy')"
      ],
      "execution_count": 0,
      "outputs": []
    },
    {
      "cell_type": "code",
      "metadata": {
        "id": "iI00Y0RtykZJ",
        "colab_type": "code",
        "outputId": "719fb09a-6bf8-4b26-af73-5fe31d0cc093",
        "colab": {
          "base_uri": "https://localhost:8080/",
          "height": 85
        }
      },
      "source": [
        "for data_batch, labels_batch in train_set:\n",
        "    print('data batch shape:', data_batch.shape)\n",
        "    print('labels batch shape:', labels_batch.shape)\n",
        "    break\n",
        "    \n",
        "for data_batch, labels_batch in test_set:\n",
        "    print('data batch shape:', data_batch.shape)\n",
        "    print('labels batch shape:', labels_batch.shape)\n",
        "    break"
      ],
      "execution_count": 0,
      "outputs": [
        {
          "output_type": "stream",
          "text": [
            "data batch shape: (32, 64, 64, 3)\n",
            "labels batch shape: (32,)\n",
            "data batch shape: (32, 64, 64, 3)\n",
            "labels batch shape: (32,)\n"
          ],
          "name": "stdout"
        }
      ]
    },
    {
      "cell_type": "code",
      "metadata": {
        "id": "9poHJlO1vpg9",
        "colab_type": "code",
        "outputId": "d9bb58b8-5a10-46c2-c4f1-2ece50d236e9",
        "colab": {
          "base_uri": "https://localhost:8080/",
          "height": 972
        }
      },
      "source": [
        "mod.fit_generator(train_set,\n",
        "                  nb_epoch = 25,\n",
        "                  validation_data = test_set)"
      ],
      "execution_count": 0,
      "outputs": [
        {
          "output_type": "stream",
          "text": [
            "/usr/local/lib/python3.6/dist-packages/ipykernel_launcher.py:3: UserWarning: The semantics of the Keras 2 argument `steps_per_epoch` is not the same as the Keras 1 argument `samples_per_epoch`. `steps_per_epoch` is the number of batches to draw from the generator at each epoch. Basically steps_per_epoch = samples_per_epoch/batch_size. Similarly `nb_val_samples`->`validation_steps` and `val_samples`->`steps` arguments have changed. Update your method calls accordingly.\n",
            "  This is separate from the ipykernel package so we can avoid doing imports until\n",
            "/usr/local/lib/python3.6/dist-packages/ipykernel_launcher.py:3: UserWarning: Update your `fit_generator` call to the Keras 2 API: `fit_generator(<keras_pre..., validation_data=<keras_pre..., epochs=25)`\n",
            "  This is separate from the ipykernel package so we can avoid doing imports until\n"
          ],
          "name": "stderr"
        },
        {
          "output_type": "stream",
          "text": [
            "Epoch 1/25\n",
            "251/251 [==============================] - 113s 449ms/step - loss: 0.4626 - acc: 0.7808 - val_loss: 0.4041 - val_acc: 0.8230\n",
            "Epoch 2/25\n",
            "251/251 [==============================] - 110s 438ms/step - loss: 0.4496 - acc: 0.7893 - val_loss: 0.3977 - val_acc: 0.8155\n",
            "Epoch 3/25\n",
            "251/251 [==============================] - 111s 441ms/step - loss: 0.4409 - acc: 0.7903 - val_loss: 0.4191 - val_acc: 0.8140\n",
            "Epoch 4/25\n",
            "251/251 [==============================] - 111s 442ms/step - loss: 0.4396 - acc: 0.7910 - val_loss: 0.3978 - val_acc: 0.8205\n",
            "Epoch 5/25\n",
            "251/251 [==============================] - 111s 444ms/step - loss: 0.4264 - acc: 0.8013 - val_loss: 0.3872 - val_acc: 0.8240\n",
            "Epoch 6/25\n",
            "251/251 [==============================] - 111s 443ms/step - loss: 0.4208 - acc: 0.8030 - val_loss: 0.3832 - val_acc: 0.8245\n",
            "Epoch 7/25\n",
            "251/251 [==============================] - 111s 442ms/step - loss: 0.4059 - acc: 0.8101 - val_loss: 0.3798 - val_acc: 0.8290\n",
            "Epoch 8/25\n",
            "251/251 [==============================] - 111s 443ms/step - loss: 0.4079 - acc: 0.8119 - val_loss: 0.3586 - val_acc: 0.8385\n",
            "Epoch 9/25\n",
            "251/251 [==============================] - 110s 439ms/step - loss: 0.4052 - acc: 0.8174 - val_loss: 0.3711 - val_acc: 0.8330\n",
            "Epoch 10/25\n",
            "251/251 [==============================] - 111s 441ms/step - loss: 0.3992 - acc: 0.8147 - val_loss: 0.3535 - val_acc: 0.8440\n",
            "Epoch 11/25\n",
            "251/251 [==============================] - 111s 444ms/step - loss: 0.3871 - acc: 0.8235 - val_loss: 0.3714 - val_acc: 0.8385\n",
            "Epoch 12/25\n",
            "251/251 [==============================] - 112s 445ms/step - loss: 0.3779 - acc: 0.8288 - val_loss: 0.3639 - val_acc: 0.8400\n",
            "Epoch 13/25\n",
            "251/251 [==============================] - 111s 442ms/step - loss: 0.3763 - acc: 0.8333 - val_loss: 0.3473 - val_acc: 0.8445\n",
            "Epoch 14/25\n",
            "251/251 [==============================] - 111s 444ms/step - loss: 0.3762 - acc: 0.8314 - val_loss: 0.3597 - val_acc: 0.8490\n",
            "Epoch 15/25\n",
            "251/251 [==============================] - 111s 443ms/step - loss: 0.3600 - acc: 0.8377 - val_loss: 0.3694 - val_acc: 0.8340\n",
            "Epoch 16/25\n",
            "251/251 [==============================] - 111s 443ms/step - loss: 0.3640 - acc: 0.8401 - val_loss: 0.3495 - val_acc: 0.8405\n",
            "Epoch 17/25\n",
            "251/251 [==============================] - 111s 441ms/step - loss: 0.3579 - acc: 0.8414 - val_loss: 0.3381 - val_acc: 0.8525\n",
            "Epoch 18/25\n",
            "251/251 [==============================] - 111s 442ms/step - loss: 0.3473 - acc: 0.8465 - val_loss: 0.3319 - val_acc: 0.8605\n",
            "Epoch 19/25\n",
            "251/251 [==============================] - 110s 440ms/step - loss: 0.3572 - acc: 0.8442 - val_loss: 0.3550 - val_acc: 0.8475\n",
            "Epoch 20/25\n",
            "251/251 [==============================] - 111s 441ms/step - loss: 0.3542 - acc: 0.8433 - val_loss: 0.3452 - val_acc: 0.8525\n",
            "Epoch 21/25\n",
            "251/251 [==============================] - 110s 440ms/step - loss: 0.3478 - acc: 0.8451 - val_loss: 0.3427 - val_acc: 0.8515\n",
            "Epoch 22/25\n",
            "251/251 [==============================] - 110s 438ms/step - loss: 0.3332 - acc: 0.8491 - val_loss: 0.3401 - val_acc: 0.8480\n",
            "Epoch 23/25\n",
            "251/251 [==============================] - 110s 440ms/step - loss: 0.3340 - acc: 0.8505 - val_loss: 0.3630 - val_acc: 0.8415\n",
            "Epoch 24/25\n",
            "251/251 [==============================] - 110s 439ms/step - loss: 0.3257 - acc: 0.8588 - val_loss: 0.3285 - val_acc: 0.8600\n",
            "Epoch 25/25\n",
            "251/251 [==============================] - 111s 440ms/step - loss: 0.3112 - acc: 0.8652 - val_loss: 0.3435 - val_acc: 0.8510\n"
          ],
          "name": "stdout"
        },
        {
          "output_type": "execute_result",
          "data": {
            "text/plain": [
              "<keras.callbacks.History at 0x7f90b4f36cc0>"
            ]
          },
          "metadata": {
            "tags": []
          },
          "execution_count": 57
        }
      ]
    },
    {
      "cell_type": "code",
      "metadata": {
        "id": "hR7QllG8wyfV",
        "colab_type": "code",
        "outputId": "28a3b489-d2dd-4272-b7d4-8d8decfd90f8",
        "colab": {
          "base_uri": "https://localhost:8080/",
          "height": 34
        }
      },
      "source": [
        "from keras.preprocessing import image\n",
        "import numpy as np\n",
        "test_img= image.load_img(my_data_path+\"dataset/test_img.jpg\",target_size=(64,64))\n",
        "test_img= image.img_to_array(test_img)\n",
        "test_img= np.expand_dims(test_img, axis=0)\n",
        "result= mod.predict(test_img)\n",
        "\n",
        "if result[0][0]>=0.5:\n",
        "  pred=\"Dog\"\n",
        "else:\n",
        "  pred= \"Cat\"\n",
        "  \n",
        "print(\"Entered image is: \",pred)"
      ],
      "execution_count": 0,
      "outputs": [
        {
          "output_type": "stream",
          "text": [
            "Entered image is:  Dog\n"
          ],
          "name": "stdout"
        }
      ]
    },
    {
      "cell_type": "code",
      "metadata": {
        "id": "_Clj88QpT_J5",
        "colab_type": "code",
        "colab": {}
      },
      "source": [
        ""
      ],
      "execution_count": 0,
      "outputs": []
    }
  ]
}